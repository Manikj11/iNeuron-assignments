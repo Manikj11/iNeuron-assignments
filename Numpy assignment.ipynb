{
 "cells": [
  {
   "cell_type": "markdown",
   "metadata": {},
   "source": [
    "1.Write a function so that the columns of the output matrix are powers of the input\n",
    "vector."
   ]
  },
  {
   "cell_type": "code",
   "execution_count": 4,
   "metadata": {},
   "outputs": [
    {
     "name": "stdout",
     "output_type": "stream",
     "text": [
      "Enter value of n=4\n",
      "Enter number of elements in an array=2\n",
      "\n",
      " Enter elements in array\n",
      " -------------------------\n",
      "3\n",
      "4\n",
      "[[27  9  3  1]\n",
      " [64 16  4  1]]\n"
     ]
    }
   ],
   "source": [
    "def col_pow():\n",
    "    n=int(input('Enter value of n='))\n",
    "    m=int(input('Enter number of elements in an array='))\n",
    "    print('\\n Enter elements in array\\n','-'*25)\n",
    "    l=[int(input()) for i in range(m)]\n",
    "    return n,l\n",
    "\n",
    "import numpy as np\n",
    "n,ls=col_pow()\n",
    "x=np.array(ls)\n",
    "print(np.vander(x,n))"
   ]
  },
  {
   "cell_type": "markdown",
   "metadata": {},
   "source": [
    "2.Write a function to find moving average in an array over a window:\n",
    "Test it over [3, 5, 7, 2, 8, 10, 11, 65, 72, 81, 99, 100, 150] and window of 3."
   ]
  },
  {
   "cell_type": "code",
   "execution_count": 7,
   "metadata": {},
   "outputs": [
    {
     "name": "stdout",
     "output_type": "stream",
     "text": [
      "[  5.           4.66666667   5.66666667   6.66666667   9.66666667\n",
      "  28.66666667  49.33333333  72.66666667  84.          93.33333333\n",
      " 116.33333333]\n"
     ]
    }
   ],
   "source": [
    "import numpy as np\n",
    "\n",
    "def moving_avg(a,w):\n",
    "    x=np.array(a)\n",
    "    y=list()\n",
    "    \n",
    "    for i in range(len(x)-w+1):\n",
    "        s=0\n",
    "        avg=0\n",
    "        for j in range(i,i+3):\n",
    "            s=s+x[j]\n",
    "        avg=s/3\n",
    "        y.append(avg)\n",
    "            \n",
    "    return np.array(y)\n",
    "    \n",
    "a=[3, 5, 7, 2, 8, 10, 11, 65, 72, 81, 99, 100, 150]\n",
    "w=3\n",
    "\n",
    "A=moving_avg(a,w)\n",
    "print(A)"
   ]
  },
  {
   "cell_type": "code",
   "execution_count": null,
   "metadata": {},
   "outputs": [],
   "source": []
  }
 ],
 "metadata": {
  "kernelspec": {
   "display_name": "Python 3",
   "language": "python",
   "name": "python3"
  },
  "language_info": {
   "codemirror_mode": {
    "name": "ipython",
    "version": 3
   },
   "file_extension": ".py",
   "mimetype": "text/x-python",
   "name": "python",
   "nbconvert_exporter": "python",
   "pygments_lexer": "ipython3",
   "version": "3.7.6"
  }
 },
 "nbformat": 4,
 "nbformat_minor": 4
}
